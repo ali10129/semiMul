{
 "cells": [
  {
   "cell_type": "code",
   "execution_count": null,
   "id": "613bdbc0-467c-4c13-9835-47b0fb8eaeab",
   "metadata": {},
   "outputs": [],
   "source": [
    "import numpy as np\n",
    "import cupy as cp\n",
    "\n",
    "\n",
    "import util\n",
    "import NN as NN\n",
    "\n",
    "from sklearn.metrics import accuracy_score\n",
    "\n",
    "from datetime import datetime \n",
    "\n",
    "\n",
    "def Eval(ts_y,ts_x):\n",
    "    def predict(X):\n",
    "        total = cp.zeros((X.shape[0],10),dtype=cp.float32)\n",
    "        for i in range(X.shape[0] // batch_size):\n",
    "            X0 = X[i * batch_size : (i + 1) * batch_size]\n",
    "            for Layer in sequential:\n",
    "                X0 = Layer.Forward(X0)\n",
    "            total[i * batch_size : (i + 1) * batch_size] = X0\n",
    "        return total\n",
    "    pd = predict(ts_x)\n",
    "    pdinx = pd.get().argmax(axis=1)\n",
    "    return \"\\tAccuracy_score: \" + str(accuracy_score(ts_y, pdinx))"
   ]
  },
  {
   "cell_type": "code",
   "execution_count": null,
   "id": "28817e88-9a70-49e0-8260-4f9d4b48cb24",
   "metadata": {},
   "outputs": [],
   "source": [
    "tr_x,tr_y,ts_x,ts_y= util.load_torchFashionMnist()"
   ]
  },
  {
   "cell_type": "code",
   "execution_count": null,
   "id": "395eb594-c998-4f7d-8baf-170ec06d2b17",
   "metadata": {},
   "outputs": [],
   "source": [
    "batch_size = 100\n",
    " \n",
    "loss = NN.MSEloss(10)\n",
    "\n",
    "ch1 = 20\n",
    "ch2 = 5\n",
    "\n",
    "lr = 0.1"
   ]
  },
  {
   "cell_type": "code",
   "execution_count": null,
   "id": "7a4889df-747b-4c45-b716-1db621fdc59f",
   "metadata": {},
   "outputs": [],
   "source": [
    "sequential = [\n",
    "        NN.Reshape((batch_size, 784) , (batch_size, 1,28,28)),\n",
    "    \n",
    "        NN.Conv((batch_size,1,28,28),(ch1,1,3,3),padding=0),\n",
    "    \n",
    "#         NN.Reshape((batch_size, ch1 , 26 , 26) , (batch_size, ch1 * 26 * 26)),\n",
    "#         NN.Sigmoid(batch_size, ch1 * 26 * 26),\n",
    "#         NN.Reshape( (batch_size, ch1 * 26 * 26), (batch_size, ch1 , 26 , 26)),\n",
    "    \n",
    "        NN.Conv((batch_size,ch1,26,26),(ch2,ch1,5,5),padding=0),\n",
    "    \n",
    "        NN.Reshape((batch_size, ch2 , 22 , 22) , (batch_size, ch2 * 22 * 22)),\n",
    "        NN.Sigmoid(batch_size, ch2 * 22 * 22),\n",
    "#         NN.Reshape( (batch_size, ch2 * 22 * 22), (batch_size, ch2 , 22 , 22)),\n",
    "    \n",
    "        NN.Linear(batch_size,ch2 * 22 * 22, 10),\n",
    "        NN.Sigmoid(batch_size, 10),\n",
    "]"
   ]
  },
  {
   "cell_type": "code",
   "execution_count": null,
   "id": "4bf5fbfb-4f81-45cd-a79c-9b0b8e18ba9d",
   "metadata": {},
   "outputs": [],
   "source": [
    "start_time = datetime.now() \n",
    "print(\"[INFO]  Train started!\\t\", start_time)\n",
    "\n",
    "for ep in range(15):\n",
    "    for i in range(tr_x.shape[0] // batch_size):\n",
    "        X = tr_x[i * batch_size : (i + 1) * batch_size]\n",
    "        Y = tr_y[i * batch_size : (i + 1) * batch_size]\n",
    "        \n",
    "        for Layer in sequential:\n",
    "            X = Layer.Forward(X)\n",
    "\n",
    "        dY = loss.Backward(X, Y)\n",
    "\n",
    "        for Layer in reversed(sequential):\n",
    "            dY = Layer.Backward(dY)\n",
    "\n",
    "        for Layer in sequential:\n",
    "            Layer.Update(lr=lr)\n",
    "\n",
    "    if ep % 1 == 0:\n",
    "        print(\n",
    "            f\"[{ep}] \\t--> {Eval(ts_y,ts_x)}  \\t\\t/ loss mini-batch : {loss.LossVal:.6f}\"\n",
    "        )\n",
    "\n",
    "time_elapsed = (datetime.now() - start_time )\n",
    "print(\"[INFO]  Train finished!\\t\", datetime.now() , \"\\t Run time: \",time_elapsed)\n"
   ]
  }
 ],
 "metadata": {
  "kernelspec": {
   "display_name": "Python 3.9.0 64-bit",
   "language": "python",
   "name": "python3"
  },
  "language_info": {
   "codemirror_mode": {
    "name": "ipython",
    "version": 3
   },
   "file_extension": ".py",
   "mimetype": "text/x-python",
   "name": "python",
   "nbconvert_exporter": "python",
   "pygments_lexer": "ipython3",
   "version": "3.9.0"
  },
  "vscode": {
   "interpreter": {
    "hash": "2e832aecf6b5b1e59d4df1281899dfed299be895152ed6b731d88219cc6ada78"
   }
  }
 },
 "nbformat": 4,
 "nbformat_minor": 5
}
