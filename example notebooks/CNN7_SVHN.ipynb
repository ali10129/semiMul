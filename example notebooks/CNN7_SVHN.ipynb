{
 "cells": [
  {
   "cell_type": "code",
   "execution_count": null,
   "id": "613bdbc0-467c-4c13-9835-47b0fb8eaeab",
   "metadata": {},
   "outputs": [],
   "source": [
    "import numpy as np\n",
    "import cupy as cp\n",
    "\n",
    "import util\n",
    "import NN0 as NN\n",
    "\n",
    "from sklearn.metrics import accuracy_score\n",
    "\n",
    "from datetime import datetime \n",
    "\n",
    "\n",
    "def Eval(ts_y,ts_x):\n",
    "    def predict(X):\n",
    "        total = cp.zeros((X.shape[0],10),dtype=cp.float32)\n",
    "        for i in range(X.shape[0] // batch_size):\n",
    "            X0 = X[i * batch_size : (i + 1) * batch_size]\n",
    "            for Layer in sequential:\n",
    "                X0 = Layer.Forward(X0)\n",
    "            total[i * batch_size : (i + 1) * batch_size] = X0\n",
    "        return total\n",
    "    pd = predict(ts_x)\n",
    "    pdinx = pd.get().argmax(axis=1)\n",
    "    return \"\\tAccuracy_score: \" + str(accuracy_score(ts_y, pdinx))"
   ]
  },
  {
   "cell_type": "code",
   "execution_count": null,
   "id": "28817e88-9a70-49e0-8260-4f9d4b48cb24",
   "metadata": {},
   "outputs": [],
   "source": [
    "tr_x,tr_y,ts_x,ts_y= util.load_SVHN()"
   ]
  },
  {
   "cell_type": "code",
   "execution_count": null,
   "id": "395eb594-c998-4f7d-8baf-170ec06d2b17",
   "metadata": {},
   "outputs": [],
   "source": [
    "batch_size = 10\n",
    " \n",
    "# loss = NN.MSEloss(10)\n",
    "loss = NN.CrossEntropyloss()\n",
    "\n",
    "lr = 0.01"
   ]
  },
  {
   "cell_type": "code",
   "execution_count": null,
   "id": "7a4889df-747b-4c45-b716-1db621fdc59f",
   "metadata": {},
   "outputs": [],
   "source": [
    "sequential = [\n",
    "    #### Conv layers:\n",
    "    NN.Conv((batch_size,3,32,32),(64,3,3,3),stride=1,padding=1),\n",
    "    NN.Relu(),\n",
    "    NN.MaxPool((batch_size, 64, 32, 32) ,size = 2, stride = 2),\n",
    "    NN.Conv((batch_size,64,16,16),(128,64,3,3),stride=1,padding=1),\n",
    "    NN.Relu(),\n",
    "    NN.Conv((batch_size,128,16,16),(256,128,3,3),stride=1,padding=1),\n",
    "    NN.Relu(),\n",
    "    NN.MaxPool((batch_size, 256, 16, 16) ,size = 2, stride = 2),\n",
    "    NN.Conv((batch_size,256,8,8),(512,256,3,3),stride=1,padding=1),\n",
    "    NN.Relu(),\n",
    "    NN.AvgPool((batch_size, 512, 8, 8) ,size = 2, stride = 2),\n",
    "    ######   FC Layers:\n",
    "    NN.Reshape((batch_size, 512 , 4 , 4) , (batch_size, 512*4*4)),\n",
    "    NN.Linear(batch_size,512*4*4, 512),\n",
    "    NN.Relu(),\n",
    "    NN.Linear(batch_size,512, 512),\n",
    "    NN.Relu(),\n",
    "    NN.Linear(batch_size,512, 10)\n",
    "]"
   ]
  },
  {
   "cell_type": "code",
   "execution_count": null,
   "id": "4bf5fbfb-4f81-45cd-a79c-9b0b8e18ba9d",
   "metadata": {},
   "outputs": [],
   "source": [
    "start_time = datetime.now() \n",
    "print(\"[INFO]  Train started!\\t\", start_time)\n",
    "\n",
    "for ep in range(100):\n",
    "    for i in range(tr_x.shape[0] // batch_size):\n",
    "        X = tr_x[i * batch_size : (i + 1) * batch_size]\n",
    "        Y = tr_y[i * batch_size : (i + 1) * batch_size]\n",
    "        \n",
    "        for Layer in sequential:\n",
    "            X = Layer.Forward(X)\n",
    "\n",
    "        dY = loss.Backward(X, Y)\n",
    "\n",
    "        for Layer in reversed(sequential):\n",
    "            dY = Layer.Backward(dY)\n",
    "\n",
    "        for Layer in sequential:\n",
    "            Layer.Update(lr=lr)\n",
    "\n",
    "    if ep % 1 == 0:\n",
    "        print(\n",
    "            f\"[{ep}] \\t--> {Eval(ts_y,ts_x)}  \\t\\t/ loss mini-batch : {loss.LossVal:.6f}\"\n",
    "        )\n",
    "\n",
    "time_elapsed = (datetime.now() - start_time )\n",
    "print(\"[INFO]  Train finished!\\t\", datetime.now() , \"\\t Run time: \",time_elapsed)"
   ]
  }
 ],
 "metadata": {
  "kernelspec": {
   "display_name": "Python (myenv0)",
   "language": "python",
   "name": "myenv0"
  },
  "language_info": {
   "codemirror_mode": {
    "name": "ipython",
    "version": 3
   },
   "file_extension": ".py",
   "mimetype": "text/x-python",
   "name": "python",
   "nbconvert_exporter": "python",
   "pygments_lexer": "ipython3",
   "version": "3.9.7"
  }
 },
 "nbformat": 4,
 "nbformat_minor": 5
}
