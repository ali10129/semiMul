{
 "cells": [
  {
   "cell_type": "code",
   "execution_count": null,
   "id": "57337096-f4fe-41c6-9e4c-2d1e6999635a",
   "metadata": {},
   "outputs": [],
   "source": [
    "import numpy as np\n",
    "import cupy as cp\n",
    "\n",
    "\n",
    "import util\n",
    "import NN as NN\n",
    "\n",
    "from sklearn.metrics import accuracy_score\n",
    "\n",
    "from datetime import datetime \n",
    "\n",
    "\n",
    "def Eval(ts_y,ts_x):\n",
    "    def predict(X):\n",
    "        total = cp.zeros((X.shape[0],10),dtype=cp.float32)\n",
    "        for i in range(X.shape[0] // batch_size):\n",
    "            X0 = X[i * batch_size : (i + 1) * batch_size]\n",
    "            for Layer in sequential:\n",
    "                X0 = Layer.Forward(X0)\n",
    "            total[i * batch_size : (i + 1) * batch_size] = X0\n",
    "        return total\n",
    "    pd = predict(ts_x)\n",
    "    pdinx = pd.get().argmax(axis=1)\n",
    "    return \"\\tAccuracy_score: \" + str(accuracy_score(ts_y, pdinx))"
   ]
  },
  {
   "cell_type": "code",
   "execution_count": null,
   "id": "0a114257-9351-4cbe-8dc2-90324c75bbaf",
   "metadata": {},
   "outputs": [],
   "source": [
    "tr_x,tr_y,ts_x,ts_y= util.load_torchMnist()"
   ]
  },
  {
   "cell_type": "code",
   "execution_count": null,
   "id": "c57b5c68-c179-4551-86e6-6a9fba14f66d",
   "metadata": {},
   "outputs": [],
   "source": [
    "batch_size = 100\n",
    " \n",
    "loss = NN.MSEloss(10)\n",
    "\n",
    "l1_size=800\n",
    "\n",
    "l2_size=300\n",
    "\n",
    "lr = 1"
   ]
  },
  {
   "cell_type": "code",
   "execution_count": null,
   "id": "e2abe2a6-b6c6-4296-aca8-ae3e55f4e9f7",
   "metadata": {},
   "outputs": [],
   "source": [
    "sequential = [\n",
    "        NN.Linear(batch_size, 784, l1_size),\n",
    "        NN.Sigmoid(batch_size, l1_size),\n",
    "        NN.Linear(batch_size, l1_size, l2_size),\n",
    "        NN.Sigmoid(batch_size, l2_size),\n",
    "        NN.Linear(batch_size, l2_size, 10),\n",
    "        NN.Sigmoid(batch_size, 10)\n",
    "]"
   ]
  },
  {
   "cell_type": "code",
   "execution_count": null,
   "id": "fa2335e5-a654-4787-a3e1-54a9a24aa9b2",
   "metadata": {},
   "outputs": [],
   "source": [
    "start_time = datetime.now() \n",
    "print(\"[INFO]  Train started!\\t\", start_time)\n",
    "\n",
    "for ep in range(30):\n",
    "    for i in range(tr_x.shape[0] // batch_size):\n",
    "        X = tr_x[i * batch_size : (i + 1) * batch_size]\n",
    "        Y = tr_y[i * batch_size : (i + 1) * batch_size]\n",
    "        \n",
    "        for Layer in sequential:\n",
    "            X = Layer.Forward(X)\n",
    "\n",
    "        dY = loss.Backward(X, Y)\n",
    "\n",
    "        for Layer in reversed(sequential):\n",
    "            dY = Layer.Backward(dY)\n",
    "\n",
    "        for Layer in sequential:\n",
    "            Layer.Update(lr=lr)\n",
    "\n",
    "    if ep % 1 == 0:\n",
    "        print(\n",
    "            f\"[{ep}] \\t--> {Eval(ts_y,ts_x)}  \\t\\t/ loss mini-batch : {loss.LossVal:.6f}\"\n",
    "        )\n",
    "\n",
    "time_elapsed = (datetime.now() - start_time )\n",
    "print(\"[INFO]  Train finished!\\t\", datetime.now() , \"\\t Run time: \",time_elapsed)\n"
   ]
  }
 ],
 "metadata": {
  "kernelspec": {
   "display_name": "Python 3.9.0 64-bit",
   "language": "python",
   "name": "python3"
  },
  "language_info": {
   "codemirror_mode": {
    "name": "ipython",
    "version": 3
   },
   "file_extension": ".py",
   "mimetype": "text/x-python",
   "name": "python",
   "nbconvert_exporter": "python",
   "pygments_lexer": "ipython3",
   "version": "3.9.0"
  },
  "vscode": {
   "interpreter": {
    "hash": "2e832aecf6b5b1e59d4df1281899dfed299be895152ed6b731d88219cc6ada78"
   }
  }
 },
 "nbformat": 4,
 "nbformat_minor": 5
}
